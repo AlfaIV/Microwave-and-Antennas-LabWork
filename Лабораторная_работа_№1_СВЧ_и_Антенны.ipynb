{
  "nbformat": 4,
  "nbformat_minor": 0,
  "metadata": {
    "colab": {
      "name": "Лабораторная работа №1 СВЧ и Антенны.ipynb",
      "provenance": [],
      "collapsed_sections": [],
      "authorship_tag": "ABX9TyNdH7GLQo2g9OLIKemnuHX0",
      "include_colab_link": true
    },
    "kernelspec": {
      "name": "python3",
      "display_name": "Python 3"
    },
    "language_info": {
      "name": "python"
    }
  },
  "cells": [
    {
      "cell_type": "markdown",
      "metadata": {
        "id": "view-in-github",
        "colab_type": "text"
      },
      "source": [
        "<a href=\"https://colab.research.google.com/github/AlfaIV/Microwave-and-Antennas-LabWork/blob/main/%D0%9B%D0%B0%D0%B1%D0%BE%D1%80%D0%B0%D1%82%D0%BE%D1%80%D0%BD%D0%B0%D1%8F_%D1%80%D0%B0%D0%B1%D0%BE%D1%82%D0%B0_%E2%84%961_%D0%A1%D0%92%D0%A7_%D0%B8_%D0%90%D0%BD%D1%82%D0%B5%D0%BD%D0%BD%D1%8B.ipynb\" target=\"_parent\"><img src=\"https://colab.research.google.com/assets/colab-badge.svg\" alt=\"Open In Colab\"/></a>"
      ]
    },
    {
      "cell_type": "code",
      "metadata": {
        "id": "vtIB7Lr11P_3",
        "colab": {
          "base_uri": "https://localhost:8080/",
          "height": 333
        },
        "outputId": "a01933e4-9873-4cb8-8a04-7c3d189d976a"
      },
      "source": [
        "import pandas as pd\n",
        "import numpy as np\n",
        "import matplotlib.pyplot as plt\n",
        "import handcalcs.render"
      ],
      "execution_count": null,
      "outputs": [
        {
          "output_type": "error",
          "ename": "ModuleNotFoundError",
          "evalue": "ignored",
          "traceback": [
            "\u001b[0;31m---------------------------------------------------------------------------\u001b[0m",
            "\u001b[0;31mModuleNotFoundError\u001b[0m                       Traceback (most recent call last)",
            "\u001b[0;32m<ipython-input-2-ff5062dc9d1b>\u001b[0m in \u001b[0;36m<module>\u001b[0;34m()\u001b[0m\n\u001b[1;32m      2\u001b[0m \u001b[0;32mimport\u001b[0m \u001b[0mnumpy\u001b[0m \u001b[0;32mas\u001b[0m \u001b[0mnp\u001b[0m\u001b[0;34m\u001b[0m\u001b[0;34m\u001b[0m\u001b[0m\n\u001b[1;32m      3\u001b[0m \u001b[0;32mimport\u001b[0m \u001b[0mmatplotlib\u001b[0m\u001b[0;34m.\u001b[0m\u001b[0mpyplot\u001b[0m \u001b[0;32mas\u001b[0m \u001b[0mplt\u001b[0m\u001b[0;34m\u001b[0m\u001b[0;34m\u001b[0m\u001b[0m\n\u001b[0;32m----> 4\u001b[0;31m \u001b[0;32mimport\u001b[0m \u001b[0mhandcalcs\u001b[0m\u001b[0;34m.\u001b[0m\u001b[0mrender\u001b[0m\u001b[0;34m\u001b[0m\u001b[0;34m\u001b[0m\u001b[0m\n\u001b[0m",
            "\u001b[0;31mModuleNotFoundError\u001b[0m: No module named 'handcalcs'",
            "",
            "\u001b[0;31m---------------------------------------------------------------------------\u001b[0;32m\nNOTE: If your import is failing due to a missing package, you can\nmanually install dependencies using either !pip or !apt.\n\nTo view examples of installing some common dependencies, click the\n\"Open Examples\" button below.\n\u001b[0;31m---------------------------------------------------------------------------\u001b[0m\n"
          ],
          "errorDetails": {
            "actions": [
              {
                "action": "open_url",
                "actionText": "Open Examples",
                "url": "/notebooks/snippets/importing_libraries.ipynb"
              }
            ]
          }
        }
      ]
    },
    {
      "cell_type": "code",
      "metadata": {
        "colab": {
          "base_uri": "https://localhost:8080/",
          "height": 452
        },
        "id": "ZGj9NxLM1lBq",
        "outputId": "20c362eb-d34f-4df2-bb9d-92ad59f27b60"
      },
      "source": [
        "t =   [0  ,5  ,10 ,15 ,20 ,25 ,30 ,35 ,40 ,45 ,50 ,55 ,60]\n",
        "phi = [290,305,335,370,405,440,475,510,540,565,590,615,635]\n",
        "data = {\"t\":t,\"phi\":phi}\n",
        "data = pd.DataFrame(data)\n",
        "phi_0 = data[data[\"t\"].values == 0][\"phi\"].values[0]\n",
        "data[\"delta_phi\"] = data[\"phi\"] - phi_0\n",
        "data"
      ],
      "execution_count": null,
      "outputs": [
        {
          "output_type": "execute_result",
          "data": {
            "text/html": [
              "<div>\n",
              "<style scoped>\n",
              "    .dataframe tbody tr th:only-of-type {\n",
              "        vertical-align: middle;\n",
              "    }\n",
              "\n",
              "    .dataframe tbody tr th {\n",
              "        vertical-align: top;\n",
              "    }\n",
              "\n",
              "    .dataframe thead th {\n",
              "        text-align: right;\n",
              "    }\n",
              "</style>\n",
              "<table border=\"1\" class=\"dataframe\">\n",
              "  <thead>\n",
              "    <tr style=\"text-align: right;\">\n",
              "      <th></th>\n",
              "      <th>t</th>\n",
              "      <th>phi</th>\n",
              "      <th>delta_phi</th>\n",
              "    </tr>\n",
              "  </thead>\n",
              "  <tbody>\n",
              "    <tr>\n",
              "      <th>0</th>\n",
              "      <td>0</td>\n",
              "      <td>290</td>\n",
              "      <td>0</td>\n",
              "    </tr>\n",
              "    <tr>\n",
              "      <th>1</th>\n",
              "      <td>5</td>\n",
              "      <td>305</td>\n",
              "      <td>15</td>\n",
              "    </tr>\n",
              "    <tr>\n",
              "      <th>2</th>\n",
              "      <td>10</td>\n",
              "      <td>335</td>\n",
              "      <td>45</td>\n",
              "    </tr>\n",
              "    <tr>\n",
              "      <th>3</th>\n",
              "      <td>15</td>\n",
              "      <td>370</td>\n",
              "      <td>80</td>\n",
              "    </tr>\n",
              "    <tr>\n",
              "      <th>4</th>\n",
              "      <td>20</td>\n",
              "      <td>405</td>\n",
              "      <td>115</td>\n",
              "    </tr>\n",
              "    <tr>\n",
              "      <th>5</th>\n",
              "      <td>25</td>\n",
              "      <td>440</td>\n",
              "      <td>150</td>\n",
              "    </tr>\n",
              "    <tr>\n",
              "      <th>6</th>\n",
              "      <td>30</td>\n",
              "      <td>475</td>\n",
              "      <td>185</td>\n",
              "    </tr>\n",
              "    <tr>\n",
              "      <th>7</th>\n",
              "      <td>35</td>\n",
              "      <td>510</td>\n",
              "      <td>220</td>\n",
              "    </tr>\n",
              "    <tr>\n",
              "      <th>8</th>\n",
              "      <td>40</td>\n",
              "      <td>540</td>\n",
              "      <td>250</td>\n",
              "    </tr>\n",
              "    <tr>\n",
              "      <th>9</th>\n",
              "      <td>45</td>\n",
              "      <td>565</td>\n",
              "      <td>275</td>\n",
              "    </tr>\n",
              "    <tr>\n",
              "      <th>10</th>\n",
              "      <td>50</td>\n",
              "      <td>590</td>\n",
              "      <td>300</td>\n",
              "    </tr>\n",
              "    <tr>\n",
              "      <th>11</th>\n",
              "      <td>55</td>\n",
              "      <td>615</td>\n",
              "      <td>325</td>\n",
              "    </tr>\n",
              "    <tr>\n",
              "      <th>12</th>\n",
              "      <td>60</td>\n",
              "      <td>635</td>\n",
              "      <td>345</td>\n",
              "    </tr>\n",
              "  </tbody>\n",
              "</table>\n",
              "</div>"
            ],
            "text/plain": [
              "     t  phi  delta_phi\n",
              "0    0  290          0\n",
              "1    5  305         15\n",
              "2   10  335         45\n",
              "3   15  370         80\n",
              "4   20  405        115\n",
              "5   25  440        150\n",
              "6   30  475        185\n",
              "7   35  510        220\n",
              "8   40  540        250\n",
              "9   45  565        275\n",
              "10  50  590        300\n",
              "11  55  615        325\n",
              "12  60  635        345"
            ]
          },
          "metadata": {},
          "execution_count": 17
        }
      ]
    },
    {
      "cell_type": "code",
      "metadata": {
        "colab": {
          "base_uri": "https://localhost:8080/"
        },
        "id": "xfFjzBBLAwnT",
        "outputId": "8cca211b-ae60-4c0a-ece8-f3acf7064210"
      },
      "source": [
        "coff = np.polyfit(data[\"t\"].values,data[\"delta_phi\"].values,1)\n",
        "line = np.poly1d(coff)\n",
        "x_for_line = np.linspace(0,60,200)\n",
        "#f = lambda x: coff[0]*x + coff[1]\n",
        "coff\n",
        "#list(map(f,x_for_line))"
      ],
      "execution_count": null,
      "outputs": [
        {
          "output_type": "execute_result",
          "data": {
            "text/plain": [
              "array([ 6.11538462, -6.15384615])"
            ]
          },
          "metadata": {},
          "execution_count": 4
        }
      ]
    },
    {
      "cell_type": "code",
      "metadata": {
        "colab": {
          "base_uri": "https://localhost:8080/",
          "height": 316
        },
        "id": "drVIvwGb53_4",
        "outputId": "181d2bf1-c911-4c76-9e34-21b09f53e56d"
      },
      "source": [
        "plt.figure()\n",
        "plt.plot(data[\"t\"],data[\"delta_phi\"],\"o\"\n",
        ",x_for_line,line(x_for_line),\"g\"\n",
        "#,x_for_line,list(map(f,x_for_line)),\"b\"\n",
        "         )\n",
        "plt.xlabel('$t_{нам}, [мкc]$')\n",
        "plt.ylabel('$\\Delta \\phi, [град]$')\n",
        "plt.title(\"Зависимость управляющего фазового сдвига от длительности управляющего импульса\")\n",
        "\n",
        "plt.hlines(y=line(10), xmin=0, xmax=10,colors=\"orange\",linewidth = 1, linestyle = \"--\")\n",
        "plt.vlines(x=10, ymin=0, ymax=line(10),colors=\"orange\",linewidth = 1, linestyle = \"--\")\n",
        "plt.hlines(y=line(50), xmin=0, xmax=50,colors=\"orange\",linewidth = 1, linestyle = \"--\")\n",
        "plt.vlines(x=50, ymin=0, ymax=line(50),colors=\"orange\",linewidth = 1, linestyle = \"--\")"
      ],
      "execution_count": null,
      "outputs": [
        {
          "output_type": "execute_result",
          "data": {
            "text/plain": [
              "<matplotlib.collections.LineCollection at 0x7ff52ce28d90>"
            ]
          },
          "metadata": {},
          "execution_count": 18
        },
        {
          "output_type": "display_data",
          "data": {
            "image/png": "[encoded data removed]",
            "text/plain": [
              "<Figure size 432x288 with 1 Axes>"
            ]
          },
          "metadata": {
            "needs_background": "light"
          }
        }
      ]
    },
    {
      "cell_type": "markdown",
      "metadata": {
        "id": "V16TkbDzMV4Q"
      },
      "source": [
        "Теперь найдем крутизну аппроксимированной фазовой характеристики фазовращателя\n",
        "\n",
        "$K = \\frac{\\Delta\\varphi_2 - \\Delta\\varphi_1}{t_{нам2}-t_{нам1}} \\approx \\frac{299.62 - 55}{50-10} = 6.12 \\frac{град}{мкс}$"
      ]
    },
    {
      "cell_type": "code",
      "metadata": {
        "colab": {
          "base_uri": "https://localhost:8080/"
        },
        "id": "tHyZSAEwOrhW",
        "outputId": "c849b789-e359-4d6d-db27-51182b9062f3"
      },
      "source": [
        "print(round(line(50),2),round(line(10),2))"
      ],
      "execution_count": null,
      "outputs": [
        {
          "output_type": "stream",
          "name": "stdout",
          "text": [
            "299.62 55.0\n"
          ]
        }
      ]
    },
    {
      "cell_type": "code",
      "metadata": {
        "id": "8t3ZW4Eq6Wmv",
        "colab": {
          "base_uri": "https://localhost:8080/"
        },
        "outputId": "50c34838-910e-4270-a671-c119a2d034fb"
      },
      "source": [
        "K  = (line(50) - line(10))/(50-10)\n",
        "round(K,2)"
      ],
      "execution_count": null,
      "outputs": [
        {
          "output_type": "execute_result",
          "data": {
            "text/plain": [
              "6.12"
            ]
          },
          "metadata": {},
          "execution_count": 11
        }
      ]
    },
    {
      "cell_type": "code",
      "metadata": {
        "id": "uBjD0PDkMe-l"
      },
      "source": [
        "!pip install handcalcs"
      ],
      "execution_count": null,
      "outputs": []
    }
  ]
}
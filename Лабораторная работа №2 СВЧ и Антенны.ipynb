{
 "cells": [
  {
   "cell_type": "code",
   "execution_count": 112,
   "metadata": {},
   "outputs": [],
   "source": [
    "import pandas as pd\n",
    "import numpy as np\n",
    "import scipy.constants as const\n",
    "import handcalcs.render"
   ]
  },
  {
   "cell_type": "code",
   "execution_count": 113,
   "metadata": {},
   "outputs": [
    {
     "data": {
      "text/latex": [
       "\\[\n",
       "\\begin{aligned}\n",
       "f_{0} &= 9.18 \\cdot \\mathrm{const.giga}  = 9.18 \\cdot const.giga &= 9180000000.0  \n",
       "\\\\[10pt]\n",
       "\\mathrm{lambda}_{0} &= \\frac{ \\mathrm{const.c} }{ f_{0} }  = \\frac{ const.c }{ 9180000000.0 } &= 32.7 \\; \\;\\textrm{(в метрах)}\n",
       "\\\\[10pt]\n",
       "\\mathrm{lambda}_{0} &= \\operatorname{round} { \\left( \\frac{ \\mathrm{lambda}_{0} }{ \\mathrm{const.milli} } ,\\  1 \\right) }  = \\operatorname{round} { \\left( \\frac{ 32.7 }{ const.milli } ,\\  1 \\right) } &= 32.7 \\; \\;\\textrm{(в миллиметрах)}\n",
       "\\end{aligned}\n",
       "\\]"
      ],
      "text/plain": [
       "<IPython.core.display.Latex object>"
      ]
     },
     "metadata": {},
     "output_type": "display_data"
    }
   ],
   "source": [
    "%%render\n",
    "f_0  = 9.18*const.giga\n",
    "lambda_0 = const.c/f_0 #в метрах\n",
    "lambda_0 = round(lambda_0/const.milli,1) #в миллиметрах"
   ]
  },
  {
   "cell_type": "markdown",
   "metadata": {},
   "source": [
    "# Экспериментальная часть"
   ]
  },
  {
   "cell_type": "markdown",
   "metadata": {},
   "source": [
    "## 1. Рупорная антенна"
   ]
  },
  {
   "cell_type": "code",
   "execution_count": 114,
   "metadata": {},
   "outputs": [
    {
     "data": {
      "text/latex": [
       "\\[\n",
       "\\begin{aligned}\n",
       "\\mathrm{KSW} &= \\mathrm{np.sqrt} { \\left( \\frac{ 6.51 }{ 5.2 } \\right) }  = np.sqrt { \\left( \\frac{ 6.51 }{ 5.2 } \\right) } &= 1.119 \\; \\;\\textrm{(КСВН)}\n",
       "\\end{aligned}\n",
       "\\]"
      ],
      "text/plain": [
       "<IPython.core.display.Latex object>"
      ]
     },
     "metadata": {},
     "output_type": "display_data"
    }
   ],
   "source": [
    "%%render\n",
    "KSW = np.sqrt(6.51/5.2) #КСВН"
   ]
  },
  {
   "cell_type": "code",
   "execution_count": 115,
   "metadata": {},
   "outputs": [
    {
     "data": {
      "text/html": [
       "<div>\n",
       "<style scoped>\n",
       "    .dataframe tbody tr th:only-of-type {\n",
       "        vertical-align: middle;\n",
       "    }\n",
       "\n",
       "    .dataframe tbody tr th {\n",
       "        vertical-align: top;\n",
       "    }\n",
       "\n",
       "    .dataframe thead th {\n",
       "        text-align: right;\n",
       "    }\n",
       "</style>\n",
       "<table border=\"1\" class=\"dataframe\">\n",
       "  <thead>\n",
       "    <tr style=\"text-align: right;\">\n",
       "      <th></th>\n",
       "      <th>Расстояние, на которое экран перемещен,мм</th>\n",
       "      <th>Umax,мВ</th>\n",
       "      <th>Umin,мВ</th>\n",
       "    </tr>\n",
       "  </thead>\n",
       "  <tbody>\n",
       "    <tr>\n",
       "      <th>0</th>\n",
       "      <td>160</td>\n",
       "      <td>6.7</td>\n",
       "      <td>4.8</td>\n",
       "    </tr>\n",
       "    <tr>\n",
       "      <th>1</th>\n",
       "      <td>163</td>\n",
       "      <td>7.1</td>\n",
       "      <td>4.2</td>\n",
       "    </tr>\n",
       "    <tr>\n",
       "      <th>2</th>\n",
       "      <td>166</td>\n",
       "      <td>7.8</td>\n",
       "      <td>4.1</td>\n",
       "    </tr>\n",
       "    <tr>\n",
       "      <th>3</th>\n",
       "      <td>169</td>\n",
       "      <td>7.6</td>\n",
       "      <td>4.2</td>\n",
       "    </tr>\n",
       "    <tr>\n",
       "      <th>4</th>\n",
       "      <td>173</td>\n",
       "      <td>6.8</td>\n",
       "      <td>4.8</td>\n",
       "    </tr>\n",
       "    <tr>\n",
       "      <th>5</th>\n",
       "      <td>176</td>\n",
       "      <td>6.6</td>\n",
       "      <td>4.8</td>\n",
       "    </tr>\n",
       "    <tr>\n",
       "      <th>6</th>\n",
       "      <td>179</td>\n",
       "      <td>7.2</td>\n",
       "      <td>4.2</td>\n",
       "    </tr>\n",
       "    <tr>\n",
       "      <th>7</th>\n",
       "      <td>182</td>\n",
       "      <td>7.3</td>\n",
       "      <td>4.2</td>\n",
       "    </tr>\n",
       "    <tr>\n",
       "      <th>8</th>\n",
       "      <td>186</td>\n",
       "      <td>6.8</td>\n",
       "      <td>4.8</td>\n",
       "    </tr>\n",
       "    <tr>\n",
       "      <th>9</th>\n",
       "      <td>189</td>\n",
       "      <td>6.8</td>\n",
       "      <td>4.6</td>\n",
       "    </tr>\n",
       "  </tbody>\n",
       "</table>\n",
       "</div>"
      ],
      "text/plain": [
       "   Расстояние, на которое экран перемещен,мм  Umax,мВ  Umin,мВ\n",
       "0                                        160      6.7      4.8\n",
       "1                                        163      7.1      4.2\n",
       "2                                        166      7.8      4.1\n",
       "3                                        169      7.6      4.2\n",
       "4                                        173      6.8      4.8\n",
       "5                                        176      6.6      4.8\n",
       "6                                        179      7.2      4.2\n",
       "7                                        182      7.3      4.2\n",
       "8                                        186      6.8      4.8\n",
       "9                                        189      6.8      4.6"
      ]
     },
     "execution_count": 115,
     "metadata": {},
     "output_type": "execute_result"
    }
   ],
   "source": [
    "#Рупорная антенна\n",
    "data = {\n",
    "    \"Расстояние, на которое экран перемещен,мм\":\n",
    "              [160,163,166,169,173,176,179,182,186,189],\n",
    "    \"Umax,мВ\":[6.7,7.1,7.8,7.6,6.8,6.6,7.2,7.3,6.8,6.8],\n",
    "    \"Umin,мВ\":[4.8,4.2,4.1,4.2,4.8,4.8,4.2,4.2,4.8,4.6]\n",
    "       }\n",
    "horn_antenna = pd.DataFrame(data)\n",
    "horn_antenna"
   ]
  },
  {
   "cell_type": "code",
   "execution_count": 116,
   "metadata": {},
   "outputs": [
    {
     "data": {
      "text/html": [
       "<div>\n",
       "<style scoped>\n",
       "    .dataframe tbody tr th:only-of-type {\n",
       "        vertical-align: middle;\n",
       "    }\n",
       "\n",
       "    .dataframe tbody tr th {\n",
       "        vertical-align: top;\n",
       "    }\n",
       "\n",
       "    .dataframe thead th {\n",
       "        text-align: right;\n",
       "    }\n",
       "</style>\n",
       "<table border=\"1\" class=\"dataframe\">\n",
       "  <thead>\n",
       "    <tr style=\"text-align: right;\">\n",
       "      <th></th>\n",
       "      <th>Расстояние, на которое экран перемещен,мм</th>\n",
       "      <th>Umax,мВ</th>\n",
       "      <th>Umin,мВ</th>\n",
       "      <th>КСВН</th>\n",
       "      <th>G_oi</th>\n",
       "    </tr>\n",
       "  </thead>\n",
       "  <tbody>\n",
       "    <tr>\n",
       "      <th>0</th>\n",
       "      <td>160</td>\n",
       "      <td>6.7</td>\n",
       "      <td>4.8</td>\n",
       "      <td>1.18</td>\n",
       "      <td>10.15</td>\n",
       "    </tr>\n",
       "    <tr>\n",
       "      <th>1</th>\n",
       "      <td>163</td>\n",
       "      <td>7.1</td>\n",
       "      <td>4.2</td>\n",
       "      <td>1.30</td>\n",
       "      <td>16.34</td>\n",
       "    </tr>\n",
       "    <tr>\n",
       "      <th>2</th>\n",
       "      <td>166</td>\n",
       "      <td>7.8</td>\n",
       "      <td>4.1</td>\n",
       "      <td>1.38</td>\n",
       "      <td>20.37</td>\n",
       "    </tr>\n",
       "    <tr>\n",
       "      <th>3</th>\n",
       "      <td>169</td>\n",
       "      <td>7.6</td>\n",
       "      <td>4.2</td>\n",
       "      <td>1.35</td>\n",
       "      <td>19.35</td>\n",
       "    </tr>\n",
       "    <tr>\n",
       "      <th>4</th>\n",
       "      <td>173</td>\n",
       "      <td>6.8</td>\n",
       "      <td>4.8</td>\n",
       "      <td>1.19</td>\n",
       "      <td>11.54</td>\n",
       "    </tr>\n",
       "    <tr>\n",
       "      <th>5</th>\n",
       "      <td>176</td>\n",
       "      <td>6.6</td>\n",
       "      <td>4.8</td>\n",
       "      <td>1.17</td>\n",
       "      <td>10.60</td>\n",
       "    </tr>\n",
       "    <tr>\n",
       "      <th>6</th>\n",
       "      <td>179</td>\n",
       "      <td>7.2</td>\n",
       "      <td>4.2</td>\n",
       "      <td>1.31</td>\n",
       "      <td>18.46</td>\n",
       "    </tr>\n",
       "    <tr>\n",
       "      <th>7</th>\n",
       "      <td>182</td>\n",
       "      <td>7.3</td>\n",
       "      <td>4.2</td>\n",
       "      <td>1.32</td>\n",
       "      <td>19.29</td>\n",
       "    </tr>\n",
       "    <tr>\n",
       "      <th>8</th>\n",
       "      <td>186</td>\n",
       "      <td>6.8</td>\n",
       "      <td>4.8</td>\n",
       "      <td>1.19</td>\n",
       "      <td>12.40</td>\n",
       "    </tr>\n",
       "    <tr>\n",
       "      <th>9</th>\n",
       "      <td>189</td>\n",
       "      <td>6.8</td>\n",
       "      <td>4.6</td>\n",
       "      <td>1.22</td>\n",
       "      <td>14.40</td>\n",
       "    </tr>\n",
       "  </tbody>\n",
       "</table>\n",
       "</div>"
      ],
      "text/plain": [
       "   Расстояние, на которое экран перемещен,мм  Umax,мВ  Umin,мВ  КСВН   G_oi\n",
       "0                                        160      6.7      4.8  1.18  10.15\n",
       "1                                        163      7.1      4.2  1.30  16.34\n",
       "2                                        166      7.8      4.1  1.38  20.37\n",
       "3                                        169      7.6      4.2  1.35  19.35\n",
       "4                                        173      6.8      4.8  1.19  11.54\n",
       "5                                        176      6.6      4.8  1.17  10.60\n",
       "6                                        179      7.2      4.2  1.31  18.46\n",
       "7                                        182      7.3      4.2  1.32  19.29\n",
       "8                                        186      6.8      4.8  1.19  12.40\n",
       "9                                        189      6.8      4.6  1.22  14.40"
      ]
     },
     "execution_count": 116,
     "metadata": {},
     "output_type": "execute_result"
    }
   ],
   "source": [
    "horn_antenna[\"КСВН\"] = round(np.sqrt(horn_antenna[\"Umax,мВ\"]/horn_antenna[\"Umin,мВ\"]),2)\n",
    "#мВ/мВ\n",
    "horn_antenna[\"G_oi\"] = 4*np.pi*2*horn_antenna[\"Расстояние, на которое экран перемещен,мм\"]/lambda_0 \n",
    "#оставляем миллиметры\n",
    "horn_antenna[\"G_oi\"] = round(horn_antenna[\"G_oi\"]*(horn_antenna[\"КСВН\"] - 1)/(horn_antenna[\"КСВН\"] + 1),2)\n",
    "#возможна ошибка в формуле\n",
    "horn_antenna"
   ]
  },
  {
   "cell_type": "code",
   "execution_count": 117,
   "metadata": {},
   "outputs": [
    {
     "data": {
      "text/plain": [
       "15.29"
      ]
     },
     "execution_count": 117,
     "metadata": {},
     "output_type": "execute_result"
    }
   ],
   "source": [
    "#round(sum(horn_antenna[\"G_oi\"])/len(horn_antenna[\"G_oi\"]),2)\n",
    "G_0 = round(horn_antenna[\"G_oi\"].mean(),2)\n",
    "G_0"
   ]
  },
  {
   "cell_type": "code",
   "execution_count": 118,
   "metadata": {},
   "outputs": [
    {
     "data": {
      "text/plain": [
       "11.84"
      ]
     },
     "execution_count": 118,
     "metadata": {},
     "output_type": "execute_result"
    }
   ],
   "source": [
    "round(10*np.log10(G_0),2)# в дБ"
   ]
  },
  {
   "cell_type": "code",
   "execution_count": 119,
   "metadata": {},
   "outputs": [
    {
     "data": {
      "text/plain": [
       "1301.05"
      ]
     },
     "execution_count": 119,
     "metadata": {},
     "output_type": "execute_result"
    }
   ],
   "source": [
    "#S эффективная в мм^2\n",
    "S_ef = 1/(4*np.pi)*G_0*(lambda_0)**2\n",
    "round(S_ef,2)"
   ]
  },
  {
   "cell_type": "markdown",
   "metadata": {},
   "source": [
    "## 2. Рупорная антенна с корректирующей линзой"
   ]
  },
  {
   "cell_type": "code",
   "execution_count": 120,
   "metadata": {},
   "outputs": [
    {
     "data": {
      "text/latex": [
       "\\[\n",
       "\\begin{aligned}\n",
       "\\mathrm{KSW} &= \\mathrm{np.sqrt} { \\left( \\frac{ 2.2 }{ 2 } \\right) }  = np.sqrt { \\left( \\frac{ 2.2 }{ 2 } \\right) } &= 1.049 \\; \\;\\textrm{(КСВН)}\n",
       "\\end{aligned}\n",
       "\\]"
      ],
      "text/plain": [
       "<IPython.core.display.Latex object>"
      ]
     },
     "metadata": {},
     "output_type": "display_data"
    }
   ],
   "source": [
    "%%render\n",
    "KSW= np.sqrt(2.2/2) #КСВН"
   ]
  },
  {
   "cell_type": "code",
   "execution_count": 121,
   "metadata": {},
   "outputs": [
    {
     "data": {
      "text/html": [
       "<div>\n",
       "<style scoped>\n",
       "    .dataframe tbody tr th:only-of-type {\n",
       "        vertical-align: middle;\n",
       "    }\n",
       "\n",
       "    .dataframe tbody tr th {\n",
       "        vertical-align: top;\n",
       "    }\n",
       "\n",
       "    .dataframe thead th {\n",
       "        text-align: right;\n",
       "    }\n",
       "</style>\n",
       "<table border=\"1\" class=\"dataframe\">\n",
       "  <thead>\n",
       "    <tr style=\"text-align: right;\">\n",
       "      <th></th>\n",
       "      <th>Расстояние, на которое экран перемещен,мм</th>\n",
       "      <th>Umax,мВ</th>\n",
       "      <th>Umin,мВ</th>\n",
       "    </tr>\n",
       "  </thead>\n",
       "  <tbody>\n",
       "    <tr>\n",
       "      <th>0</th>\n",
       "      <td>305.8</td>\n",
       "      <td>2.20</td>\n",
       "      <td>1.40</td>\n",
       "    </tr>\n",
       "    <tr>\n",
       "      <th>1</th>\n",
       "      <td>309.0</td>\n",
       "      <td>2.60</td>\n",
       "      <td>1.70</td>\n",
       "    </tr>\n",
       "    <tr>\n",
       "      <th>2</th>\n",
       "      <td>312.3</td>\n",
       "      <td>2.58</td>\n",
       "      <td>1.79</td>\n",
       "    </tr>\n",
       "    <tr>\n",
       "      <th>3</th>\n",
       "      <td>315.6</td>\n",
       "      <td>2.40</td>\n",
       "      <td>1.80</td>\n",
       "    </tr>\n",
       "    <tr>\n",
       "      <th>4</th>\n",
       "      <td>318.8</td>\n",
       "      <td>2.55</td>\n",
       "      <td>1.90</td>\n",
       "    </tr>\n",
       "    <tr>\n",
       "      <th>5</th>\n",
       "      <td>322.1</td>\n",
       "      <td>2.60</td>\n",
       "      <td>1.80</td>\n",
       "    </tr>\n",
       "    <tr>\n",
       "      <th>6</th>\n",
       "      <td>325.4</td>\n",
       "      <td>2.58</td>\n",
       "      <td>1.70</td>\n",
       "    </tr>\n",
       "    <tr>\n",
       "      <th>7</th>\n",
       "      <td>328.7</td>\n",
       "      <td>2.58</td>\n",
       "      <td>1.80</td>\n",
       "    </tr>\n",
       "    <tr>\n",
       "      <th>8</th>\n",
       "      <td>332.0</td>\n",
       "      <td>2.40</td>\n",
       "      <td>1.90</td>\n",
       "    </tr>\n",
       "    <tr>\n",
       "      <th>9</th>\n",
       "      <td>325.2</td>\n",
       "      <td>2.36</td>\n",
       "      <td>2.00</td>\n",
       "    </tr>\n",
       "  </tbody>\n",
       "</table>\n",
       "</div>"
      ],
      "text/plain": [
       "   Расстояние, на которое экран перемещен,мм  Umax,мВ  Umin,мВ\n",
       "0                                      305.8     2.20     1.40\n",
       "1                                      309.0     2.60     1.70\n",
       "2                                      312.3     2.58     1.79\n",
       "3                                      315.6     2.40     1.80\n",
       "4                                      318.8     2.55     1.90\n",
       "5                                      322.1     2.60     1.80\n",
       "6                                      325.4     2.58     1.70\n",
       "7                                      328.7     2.58     1.80\n",
       "8                                      332.0     2.40     1.90\n",
       "9                                      325.2     2.36     2.00"
      ]
     },
     "execution_count": 121,
     "metadata": {},
     "output_type": "execute_result"
    }
   ],
   "source": [
    "data = {\n",
    "    \"Расстояние, на которое экран перемещен,мм\":\n",
    "              [305.8,309,312.3,315.6,318.8,322.1,325.4,328.7,332,325.2],\n",
    "    \"Umax,мВ\":[2.2  ,2.6,2.58 ,2.4  ,2.55 ,2.6  ,2.58 ,2.58 ,2.4,2.36 ],\n",
    "    \"Umin,мВ\":[1.4  ,1.7,1.79 ,1.8  ,1.9  ,1.8  ,1.7  ,1.8  ,1.9,2    ]\n",
    "       }\n",
    "horn_antenna_with_corrective_lens = pd.DataFrame(data)\n",
    "horn_antenna_with_corrective_lens"
   ]
  },
  {
   "cell_type": "code",
   "execution_count": 122,
   "metadata": {},
   "outputs": [
    {
     "data": {
      "text/html": [
       "<div>\n",
       "<style scoped>\n",
       "    .dataframe tbody tr th:only-of-type {\n",
       "        vertical-align: middle;\n",
       "    }\n",
       "\n",
       "    .dataframe tbody tr th {\n",
       "        vertical-align: top;\n",
       "    }\n",
       "\n",
       "    .dataframe thead th {\n",
       "        text-align: right;\n",
       "    }\n",
       "</style>\n",
       "<table border=\"1\" class=\"dataframe\">\n",
       "  <thead>\n",
       "    <tr style=\"text-align: right;\">\n",
       "      <th></th>\n",
       "      <th>Расстояние, на которое экран перемещен,мм</th>\n",
       "      <th>Umax,мВ</th>\n",
       "      <th>Umin,мВ</th>\n",
       "      <th>КСВН</th>\n",
       "      <th>G_oi</th>\n",
       "    </tr>\n",
       "  </thead>\n",
       "  <tbody>\n",
       "    <tr>\n",
       "      <th>0</th>\n",
       "      <td>305.8</td>\n",
       "      <td>2.20</td>\n",
       "      <td>1.40</td>\n",
       "      <td>1.25</td>\n",
       "      <td>26.11</td>\n",
       "    </tr>\n",
       "    <tr>\n",
       "      <th>1</th>\n",
       "      <td>309.0</td>\n",
       "      <td>2.60</td>\n",
       "      <td>1.70</td>\n",
       "      <td>1.24</td>\n",
       "      <td>25.45</td>\n",
       "    </tr>\n",
       "    <tr>\n",
       "      <th>2</th>\n",
       "      <td>312.3</td>\n",
       "      <td>2.58</td>\n",
       "      <td>1.79</td>\n",
       "      <td>1.20</td>\n",
       "      <td>21.82</td>\n",
       "    </tr>\n",
       "    <tr>\n",
       "      <th>3</th>\n",
       "      <td>315.6</td>\n",
       "      <td>2.40</td>\n",
       "      <td>1.80</td>\n",
       "      <td>1.15</td>\n",
       "      <td>16.92</td>\n",
       "    </tr>\n",
       "    <tr>\n",
       "      <th>4</th>\n",
       "      <td>318.8</td>\n",
       "      <td>2.55</td>\n",
       "      <td>1.90</td>\n",
       "      <td>1.16</td>\n",
       "      <td>18.15</td>\n",
       "    </tr>\n",
       "    <tr>\n",
       "      <th>5</th>\n",
       "      <td>322.1</td>\n",
       "      <td>2.60</td>\n",
       "      <td>1.80</td>\n",
       "      <td>1.20</td>\n",
       "      <td>22.51</td>\n",
       "    </tr>\n",
       "    <tr>\n",
       "      <th>6</th>\n",
       "      <td>325.4</td>\n",
       "      <td>2.58</td>\n",
       "      <td>1.70</td>\n",
       "      <td>1.23</td>\n",
       "      <td>25.79</td>\n",
       "    </tr>\n",
       "    <tr>\n",
       "      <th>7</th>\n",
       "      <td>328.7</td>\n",
       "      <td>2.58</td>\n",
       "      <td>1.80</td>\n",
       "      <td>1.20</td>\n",
       "      <td>22.97</td>\n",
       "    </tr>\n",
       "    <tr>\n",
       "      <th>8</th>\n",
       "      <td>332.0</td>\n",
       "      <td>2.40</td>\n",
       "      <td>1.90</td>\n",
       "      <td>1.12</td>\n",
       "      <td>14.44</td>\n",
       "    </tr>\n",
       "    <tr>\n",
       "      <th>9</th>\n",
       "      <td>325.2</td>\n",
       "      <td>2.36</td>\n",
       "      <td>2.00</td>\n",
       "      <td>1.09</td>\n",
       "      <td>10.76</td>\n",
       "    </tr>\n",
       "  </tbody>\n",
       "</table>\n",
       "</div>"
      ],
      "text/plain": [
       "   Расстояние, на которое экран перемещен,мм  Umax,мВ  Umin,мВ  КСВН   G_oi\n",
       "0                                      305.8     2.20     1.40  1.25  26.11\n",
       "1                                      309.0     2.60     1.70  1.24  25.45\n",
       "2                                      312.3     2.58     1.79  1.20  21.82\n",
       "3                                      315.6     2.40     1.80  1.15  16.92\n",
       "4                                      318.8     2.55     1.90  1.16  18.15\n",
       "5                                      322.1     2.60     1.80  1.20  22.51\n",
       "6                                      325.4     2.58     1.70  1.23  25.79\n",
       "7                                      328.7     2.58     1.80  1.20  22.97\n",
       "8                                      332.0     2.40     1.90  1.12  14.44\n",
       "9                                      325.2     2.36     2.00  1.09  10.76"
      ]
     },
     "execution_count": 122,
     "metadata": {},
     "output_type": "execute_result"
    }
   ],
   "source": [
    "horn_antenna_with_corrective_lens[\"КСВН\"] = round(np.sqrt(horn_antenna_with_corrective_lens[\"Umax,мВ\"]/horn_antenna_with_corrective_lens[\"Umin,мВ\"]),2)\n",
    "#мВ/мВ\n",
    "horn_antenna_with_corrective_lens[\"G_oi\"] = 4*np.pi*2*horn_antenna_with_corrective_lens[\"Расстояние, на которое экран перемещен,мм\"]/lambda_0 \n",
    "#оставляем миллиметры\n",
    "horn_antenna_with_corrective_lens[\"G_oi\"] = round(horn_antenna_with_corrective_lens[\"G_oi\"]*(horn_antenna_with_corrective_lens[\"КСВН\"] - 1)/(horn_antenna_with_corrective_lens[\"КСВН\"] + 1),2)\n",
    "#возможна ошибка в формуле\n",
    "horn_antenna_with_corrective_lens"
   ]
  },
  {
   "cell_type": "code",
   "execution_count": 123,
   "metadata": {},
   "outputs": [
    {
     "data": {
      "text/plain": [
       "20.49"
      ]
     },
     "execution_count": 123,
     "metadata": {},
     "output_type": "execute_result"
    }
   ],
   "source": [
    "#round(sum(horn_antenna[\"G_oi\"])/len(horn_antenna[\"G_oi\"]),2)\n",
    "G_0 = round(horn_antenna_with_corrective_lens[\"G_oi\"].mean(),2)\n",
    "G_0"
   ]
  },
  {
   "cell_type": "code",
   "execution_count": 124,
   "metadata": {},
   "outputs": [
    {
     "data": {
      "text/plain": [
       "13.12"
      ]
     },
     "execution_count": 124,
     "metadata": {},
     "output_type": "execute_result"
    }
   ],
   "source": [
    "round(10*np.log10(G_0),2)# в дБ"
   ]
  },
  {
   "cell_type": "code",
   "execution_count": 125,
   "metadata": {},
   "outputs": [
    {
     "data": {
      "text/plain": [
       "1743.52"
      ]
     },
     "execution_count": 125,
     "metadata": {},
     "output_type": "execute_result"
    }
   ],
   "source": [
    "#S эффективная в мм^2\n",
    "S_ef = 1/(4*np.pi)*G_0*(lambda_0)**2\n",
    "round(S_ef,2)"
   ]
  },
  {
   "cell_type": "markdown",
   "metadata": {},
   "source": [
    "## 3. Диэлектрическая стержневая антенна"
   ]
  },
  {
   "cell_type": "code",
   "execution_count": 126,
   "metadata": {},
   "outputs": [
    {
     "data": {
      "text/latex": [
       "\\[\n",
       "\\begin{aligned}\n",
       "\\mathrm{KSW} &= \\mathrm{np.sqrt} { \\left( \\frac{ 2 }{ 1.3 } \\right) }  = np.sqrt { \\left( \\frac{ 2 }{ 1.3 } \\right) } &= 1.24 \\; \\;\\textrm{(КСВН)}\n",
       "\\end{aligned}\n",
       "\\]"
      ],
      "text/plain": [
       "<IPython.core.display.Latex object>"
      ]
     },
     "metadata": {},
     "output_type": "display_data"
    }
   ],
   "source": [
    "%%render\n",
    "KSW= np.sqrt(2/1.3) #КСВН"
   ]
  },
  {
   "cell_type": "code",
   "execution_count": 127,
   "metadata": {},
   "outputs": [
    {
     "data": {
      "text/html": [
       "<div>\n",
       "<style scoped>\n",
       "    .dataframe tbody tr th:only-of-type {\n",
       "        vertical-align: middle;\n",
       "    }\n",
       "\n",
       "    .dataframe tbody tr th {\n",
       "        vertical-align: top;\n",
       "    }\n",
       "\n",
       "    .dataframe thead th {\n",
       "        text-align: right;\n",
       "    }\n",
       "</style>\n",
       "<table border=\"1\" class=\"dataframe\">\n",
       "  <thead>\n",
       "    <tr style=\"text-align: right;\">\n",
       "      <th></th>\n",
       "      <th>Расстояние, на которое экран перемещен,мм</th>\n",
       "      <th>Umax,мВ</th>\n",
       "      <th>Umin,мВ</th>\n",
       "    </tr>\n",
       "  </thead>\n",
       "  <tbody>\n",
       "    <tr>\n",
       "      <th>0</th>\n",
       "      <td>230.0</td>\n",
       "      <td>2.9</td>\n",
       "      <td>0.8</td>\n",
       "    </tr>\n",
       "    <tr>\n",
       "      <th>1</th>\n",
       "      <td>233.8</td>\n",
       "      <td>2.5</td>\n",
       "      <td>1.1</td>\n",
       "    </tr>\n",
       "    <tr>\n",
       "      <th>2</th>\n",
       "      <td>236.6</td>\n",
       "      <td>2.2</td>\n",
       "      <td>1.4</td>\n",
       "    </tr>\n",
       "    <tr>\n",
       "      <th>3</th>\n",
       "      <td>239.9</td>\n",
       "      <td>2.5</td>\n",
       "      <td>1.1</td>\n",
       "    </tr>\n",
       "    <tr>\n",
       "      <th>4</th>\n",
       "      <td>243.2</td>\n",
       "      <td>2.9</td>\n",
       "      <td>0.8</td>\n",
       "    </tr>\n",
       "    <tr>\n",
       "      <th>5</th>\n",
       "      <td>246.5</td>\n",
       "      <td>3.0</td>\n",
       "      <td>0.8</td>\n",
       "    </tr>\n",
       "    <tr>\n",
       "      <th>6</th>\n",
       "      <td>249.8</td>\n",
       "      <td>2.7</td>\n",
       "      <td>0.9</td>\n",
       "    </tr>\n",
       "    <tr>\n",
       "      <th>7</th>\n",
       "      <td>253.1</td>\n",
       "      <td>2.2</td>\n",
       "      <td>1.3</td>\n",
       "    </tr>\n",
       "    <tr>\n",
       "      <th>8</th>\n",
       "      <td>256.4</td>\n",
       "      <td>2.2</td>\n",
       "      <td>1.3</td>\n",
       "    </tr>\n",
       "    <tr>\n",
       "      <th>9</th>\n",
       "      <td>259.7</td>\n",
       "      <td>2.7</td>\n",
       "      <td>0.9</td>\n",
       "    </tr>\n",
       "  </tbody>\n",
       "</table>\n",
       "</div>"
      ],
      "text/plain": [
       "   Расстояние, на которое экран перемещен,мм  Umax,мВ  Umin,мВ\n",
       "0                                      230.0      2.9      0.8\n",
       "1                                      233.8      2.5      1.1\n",
       "2                                      236.6      2.2      1.4\n",
       "3                                      239.9      2.5      1.1\n",
       "4                                      243.2      2.9      0.8\n",
       "5                                      246.5      3.0      0.8\n",
       "6                                      249.8      2.7      0.9\n",
       "7                                      253.1      2.2      1.3\n",
       "8                                      256.4      2.2      1.3\n",
       "9                                      259.7      2.7      0.9"
      ]
     },
     "execution_count": 127,
     "metadata": {},
     "output_type": "execute_result"
    }
   ],
   "source": [
    "data = {\n",
    "    \"Расстояние, на которое экран перемещен,мм\":\n",
    "              [230,233.8,236.6,239.9,243.2,246.5,249.8,253.1,256.4,259.7],\n",
    "    \"Umax,мВ\":[2.9,2.5  ,2.2  ,2.5  ,2.9  ,3    ,2.7  ,2.2  ,2.2  ,2.7  ],\n",
    "    \"Umin,мВ\":[0.8,1.1  ,1.4  ,1.1  ,0.8  ,0.8  ,0.9  ,1.3  ,1.3  ,0.9  ]\n",
    "       }\n",
    "dielectric_antenna = pd.DataFrame(data)\n",
    "dielectric_antenna"
   ]
  },
  {
   "cell_type": "code",
   "execution_count": 128,
   "metadata": {},
   "outputs": [
    {
     "data": {
      "text/html": [
       "<div>\n",
       "<style scoped>\n",
       "    .dataframe tbody tr th:only-of-type {\n",
       "        vertical-align: middle;\n",
       "    }\n",
       "\n",
       "    .dataframe tbody tr th {\n",
       "        vertical-align: top;\n",
       "    }\n",
       "\n",
       "    .dataframe thead th {\n",
       "        text-align: right;\n",
       "    }\n",
       "</style>\n",
       "<table border=\"1\" class=\"dataframe\">\n",
       "  <thead>\n",
       "    <tr style=\"text-align: right;\">\n",
       "      <th></th>\n",
       "      <th>Расстояние, на которое экран перемещен,мм</th>\n",
       "      <th>Umax,мВ</th>\n",
       "      <th>Umin,мВ</th>\n",
       "      <th>КСВН</th>\n",
       "      <th>G_oi</th>\n",
       "    </tr>\n",
       "  </thead>\n",
       "  <tbody>\n",
       "    <tr>\n",
       "      <th>0</th>\n",
       "      <td>230.0</td>\n",
       "      <td>2.9</td>\n",
       "      <td>0.8</td>\n",
       "      <td>1.90</td>\n",
       "      <td>54.86</td>\n",
       "    </tr>\n",
       "    <tr>\n",
       "      <th>1</th>\n",
       "      <td>233.8</td>\n",
       "      <td>2.5</td>\n",
       "      <td>1.1</td>\n",
       "      <td>1.51</td>\n",
       "      <td>36.51</td>\n",
       "    </tr>\n",
       "    <tr>\n",
       "      <th>2</th>\n",
       "      <td>236.6</td>\n",
       "      <td>2.2</td>\n",
       "      <td>1.4</td>\n",
       "      <td>1.25</td>\n",
       "      <td>20.21</td>\n",
       "    </tr>\n",
       "    <tr>\n",
       "      <th>3</th>\n",
       "      <td>239.9</td>\n",
       "      <td>2.5</td>\n",
       "      <td>1.1</td>\n",
       "      <td>1.51</td>\n",
       "      <td>37.46</td>\n",
       "    </tr>\n",
       "    <tr>\n",
       "      <th>4</th>\n",
       "      <td>243.2</td>\n",
       "      <td>2.9</td>\n",
       "      <td>0.8</td>\n",
       "      <td>1.90</td>\n",
       "      <td>58.01</td>\n",
       "    </tr>\n",
       "    <tr>\n",
       "      <th>5</th>\n",
       "      <td>246.5</td>\n",
       "      <td>3.0</td>\n",
       "      <td>0.8</td>\n",
       "      <td>1.94</td>\n",
       "      <td>60.57</td>\n",
       "    </tr>\n",
       "    <tr>\n",
       "      <th>6</th>\n",
       "      <td>249.8</td>\n",
       "      <td>2.7</td>\n",
       "      <td>0.9</td>\n",
       "      <td>1.73</td>\n",
       "      <td>51.34</td>\n",
       "    </tr>\n",
       "    <tr>\n",
       "      <th>7</th>\n",
       "      <td>253.1</td>\n",
       "      <td>2.2</td>\n",
       "      <td>1.3</td>\n",
       "      <td>1.30</td>\n",
       "      <td>25.37</td>\n",
       "    </tr>\n",
       "    <tr>\n",
       "      <th>8</th>\n",
       "      <td>256.4</td>\n",
       "      <td>2.2</td>\n",
       "      <td>1.3</td>\n",
       "      <td>1.30</td>\n",
       "      <td>25.70</td>\n",
       "    </tr>\n",
       "    <tr>\n",
       "      <th>9</th>\n",
       "      <td>259.7</td>\n",
       "      <td>2.7</td>\n",
       "      <td>0.9</td>\n",
       "      <td>1.73</td>\n",
       "      <td>53.37</td>\n",
       "    </tr>\n",
       "  </tbody>\n",
       "</table>\n",
       "</div>"
      ],
      "text/plain": [
       "   Расстояние, на которое экран перемещен,мм  Umax,мВ  Umin,мВ  КСВН   G_oi\n",
       "0                                      230.0      2.9      0.8  1.90  54.86\n",
       "1                                      233.8      2.5      1.1  1.51  36.51\n",
       "2                                      236.6      2.2      1.4  1.25  20.21\n",
       "3                                      239.9      2.5      1.1  1.51  37.46\n",
       "4                                      243.2      2.9      0.8  1.90  58.01\n",
       "5                                      246.5      3.0      0.8  1.94  60.57\n",
       "6                                      249.8      2.7      0.9  1.73  51.34\n",
       "7                                      253.1      2.2      1.3  1.30  25.37\n",
       "8                                      256.4      2.2      1.3  1.30  25.70\n",
       "9                                      259.7      2.7      0.9  1.73  53.37"
      ]
     },
     "execution_count": 128,
     "metadata": {},
     "output_type": "execute_result"
    }
   ],
   "source": [
    "dielectric_antenna[\"КСВН\"] = round(np.sqrt(dielectric_antenna[\"Umax,мВ\"]/dielectric_antenna[\"Umin,мВ\"]),2)\n",
    "#мВ/мВ\n",
    "dielectric_antenna[\"G_oi\"] = 4*np.pi*2*dielectric_antenna[\"Расстояние, на которое экран перемещен,мм\"]/lambda_0 \n",
    "#оставляем миллиметры\n",
    "dielectric_antenna[\"G_oi\"] = round(dielectric_antenna[\"G_oi\"]*(dielectric_antenna[\"КСВН\"] - 1)/(dielectric_antenna[\"КСВН\"] + 1),2)\n",
    "#возможна ошибка в формуле\n",
    "dielectric_antenna"
   ]
  },
  {
   "cell_type": "code",
   "execution_count": 129,
   "metadata": {},
   "outputs": [
    {
     "data": {
      "text/plain": [
       "42.34"
      ]
     },
     "execution_count": 129,
     "metadata": {},
     "output_type": "execute_result"
    }
   ],
   "source": [
    "#round(sum(horn_antenna[\"G_oi\"])/len(horn_antenna[\"G_oi\"]),2)\n",
    "G_0 = round(dielectric_antenna[\"G_oi\"].mean(),2)\n",
    "G_0"
   ]
  },
  {
   "cell_type": "code",
   "execution_count": 130,
   "metadata": {},
   "outputs": [
    {
     "data": {
      "text/plain": [
       "16.27"
      ]
     },
     "execution_count": 130,
     "metadata": {},
     "output_type": "execute_result"
    }
   ],
   "source": [
    "round(10*np.log10(G_0),2)# в дБ"
   ]
  },
  {
   "cell_type": "code",
   "execution_count": 131,
   "metadata": {},
   "outputs": [
    {
     "data": {
      "text/plain": [
       "3602.77"
      ]
     },
     "execution_count": 131,
     "metadata": {},
     "output_type": "execute_result"
    }
   ],
   "source": [
    "#S эффективная в мм^2\n",
    "S_ef = 1/(4*np.pi)*G_0*(lambda_0)**2\n",
    "round(S_ef,2)"
   ]
  },
  {
   "cell_type": "code",
   "execution_count": null,
   "metadata": {},
   "outputs": [],
   "source": []
  }
 ],
 "metadata": {
  "kernelspec": {
   "display_name": "Python 3",
   "language": "python",
   "name": "python3"
  },
  "language_info": {
   "codemirror_mode": {
    "name": "ipython",
    "version": 3
   },
   "file_extension": ".py",
   "mimetype": "text/x-python",
   "name": "python",
   "nbconvert_exporter": "python",
   "pygments_lexer": "ipython3",
   "version": "3.8.10"
  }
 },
 "nbformat": 4,
 "nbformat_minor": 4
}

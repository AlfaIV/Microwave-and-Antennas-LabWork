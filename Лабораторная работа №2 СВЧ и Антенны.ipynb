{
 "cells": [
  {
   "cell_type": "code",
   "execution_count": 30,
   "metadata": {},
   "outputs": [],
   "source": [
    "import pandas as pd\n",
    "import numpy as np\n",
    "import scipy.constants as const\n",
    "import handcalcs.render"
   ]
  },
  {
   "cell_type": "code",
   "execution_count": 31,
   "metadata": {},
   "outputs": [
    {
     "data": {
      "text/latex": [
       "\\[\n",
       "\\begin{aligned}\n",
       "f_{0} &= 9.18 \\cdot \\mathrm{const.giga}  = 9.18 \\cdot const.giga &= 9180000000.0  \n",
       "\\\\[10pt]\n",
       "\\mathrm{lambda}_{0} &= \\frac{ \\mathrm{const.c} }{ f_{0} }  = \\frac{ const.c }{ 9180000000.0 } &= 3.266 \\times 10 ^ {-2 }  \n",
       "\\end{aligned}\n",
       "\\]"
      ],
      "text/plain": [
       "<IPython.core.display.Latex object>"
      ]
     },
     "metadata": {},
     "output_type": "display_data"
    }
   ],
   "source": [
    "%%render\n",
    "f_0  = 9.18*const.giga\n",
    "lambda_0 = const.c/f_0"
   ]
  },
  {
   "cell_type": "code",
   "execution_count": 11,
   "metadata": {},
   "outputs": [
    {
     "data": {
      "text/html": [
       "<div>\n",
       "<style scoped>\n",
       "    .dataframe tbody tr th:only-of-type {\n",
       "        vertical-align: middle;\n",
       "    }\n",
       "\n",
       "    .dataframe tbody tr th {\n",
       "        vertical-align: top;\n",
       "    }\n",
       "\n",
       "    .dataframe thead th {\n",
       "        text-align: right;\n",
       "    }\n",
       "</style>\n",
       "<table border=\"1\" class=\"dataframe\">\n",
       "  <thead>\n",
       "    <tr style=\"text-align: right;\">\n",
       "      <th></th>\n",
       "      <th>Расстояние, на которое экран перемещен,мм</th>\n",
       "      <th>Umax,мВ</th>\n",
       "      <th>Umin,мВ</th>\n",
       "    </tr>\n",
       "  </thead>\n",
       "  <tbody>\n",
       "    <tr>\n",
       "      <th>0</th>\n",
       "      <td>160</td>\n",
       "      <td>6.7</td>\n",
       "      <td>4.8</td>\n",
       "    </tr>\n",
       "    <tr>\n",
       "      <th>1</th>\n",
       "      <td>163</td>\n",
       "      <td>7.1</td>\n",
       "      <td>4.2</td>\n",
       "    </tr>\n",
       "    <tr>\n",
       "      <th>2</th>\n",
       "      <td>166</td>\n",
       "      <td>7.8</td>\n",
       "      <td>4.1</td>\n",
       "    </tr>\n",
       "    <tr>\n",
       "      <th>3</th>\n",
       "      <td>169</td>\n",
       "      <td>7.6</td>\n",
       "      <td>4.2</td>\n",
       "    </tr>\n",
       "    <tr>\n",
       "      <th>4</th>\n",
       "      <td>173</td>\n",
       "      <td>6.8</td>\n",
       "      <td>4.8</td>\n",
       "    </tr>\n",
       "    <tr>\n",
       "      <th>5</th>\n",
       "      <td>176</td>\n",
       "      <td>6.6</td>\n",
       "      <td>4.8</td>\n",
       "    </tr>\n",
       "    <tr>\n",
       "      <th>6</th>\n",
       "      <td>179</td>\n",
       "      <td>7.2</td>\n",
       "      <td>4.2</td>\n",
       "    </tr>\n",
       "    <tr>\n",
       "      <th>7</th>\n",
       "      <td>182</td>\n",
       "      <td>7.3</td>\n",
       "      <td>4.2</td>\n",
       "    </tr>\n",
       "    <tr>\n",
       "      <th>8</th>\n",
       "      <td>186</td>\n",
       "      <td>6.8</td>\n",
       "      <td>4.8</td>\n",
       "    </tr>\n",
       "    <tr>\n",
       "      <th>9</th>\n",
       "      <td>189</td>\n",
       "      <td>6.8</td>\n",
       "      <td>4.6</td>\n",
       "    </tr>\n",
       "  </tbody>\n",
       "</table>\n",
       "</div>"
      ],
      "text/plain": [
       "   Расстояние, на которое экран перемещен,мм  Umax,мВ  Umin,мВ\n",
       "0                                        160      6.7      4.8\n",
       "1                                        163      7.1      4.2\n",
       "2                                        166      7.8      4.1\n",
       "3                                        169      7.6      4.2\n",
       "4                                        173      6.8      4.8\n",
       "5                                        176      6.6      4.8\n",
       "6                                        179      7.2      4.2\n",
       "7                                        182      7.3      4.2\n",
       "8                                        186      6.8      4.8\n",
       "9                                        189      6.8      4.6"
      ]
     },
     "execution_count": 11,
     "metadata": {},
     "output_type": "execute_result"
    }
   ],
   "source": [
    "#Рупорная антенна\n",
    "data = {\n",
    "    \"Расстояние, на которое экран перемещен,мм\":\n",
    "              [160,163,166,169,173,176,179,182,186,189],\n",
    "    \"Umax,мВ\":[6.7,7.1,7.8,7.6,6.8,6.6,7.2,7.3,6.8,6.8],\n",
    "    \"Umin,мВ\":[4.8,4.2,4.1,4.2,4.8,4.8,4.2,4.2,4.8,4.6]\n",
    "       }\n",
    "horn_antenna = pd.DataFrame(data)\n",
    "horn_antenna"
   ]
  },
  {
   "cell_type": "code",
   "execution_count": 52,
   "metadata": {},
   "outputs": [
    {
     "data": {
      "text/html": [
       "<div>\n",
       "<style scoped>\n",
       "    .dataframe tbody tr th:only-of-type {\n",
       "        vertical-align: middle;\n",
       "    }\n",
       "\n",
       "    .dataframe tbody tr th {\n",
       "        vertical-align: top;\n",
       "    }\n",
       "\n",
       "    .dataframe thead th {\n",
       "        text-align: right;\n",
       "    }\n",
       "</style>\n",
       "<table border=\"1\" class=\"dataframe\">\n",
       "  <thead>\n",
       "    <tr style=\"text-align: right;\">\n",
       "      <th></th>\n",
       "      <th>Расстояние, на которое экран перемещен,мм</th>\n",
       "      <th>Umax,мВ</th>\n",
       "      <th>Umin,мВ</th>\n",
       "      <th>КСВН</th>\n",
       "      <th>G_oi</th>\n",
       "    </tr>\n",
       "  </thead>\n",
       "  <tbody>\n",
       "    <tr>\n",
       "      <th>0</th>\n",
       "      <td>160</td>\n",
       "      <td>6.7</td>\n",
       "      <td>4.8</td>\n",
       "      <td>1.18</td>\n",
       "      <td>10167.12</td>\n",
       "    </tr>\n",
       "    <tr>\n",
       "      <th>1</th>\n",
       "      <td>163</td>\n",
       "      <td>7.1</td>\n",
       "      <td>4.2</td>\n",
       "      <td>1.30</td>\n",
       "      <td>16362.24</td>\n",
       "    </tr>\n",
       "    <tr>\n",
       "      <th>2</th>\n",
       "      <td>166</td>\n",
       "      <td>7.8</td>\n",
       "      <td>4.1</td>\n",
       "      <td>1.38</td>\n",
       "      <td>20397.48</td>\n",
       "    </tr>\n",
       "    <tr>\n",
       "      <th>3</th>\n",
       "      <td>169</td>\n",
       "      <td>7.6</td>\n",
       "      <td>4.2</td>\n",
       "      <td>1.35</td>\n",
       "      <td>19370.85</td>\n",
       "    </tr>\n",
       "    <tr>\n",
       "      <th>4</th>\n",
       "      <td>173</td>\n",
       "      <td>6.8</td>\n",
       "      <td>4.8</td>\n",
       "      <td>1.19</td>\n",
       "      <td>11550.94</td>\n",
       "    </tr>\n",
       "    <tr>\n",
       "      <th>5</th>\n",
       "      <td>176</td>\n",
       "      <td>6.6</td>\n",
       "      <td>4.8</td>\n",
       "      <td>1.17</td>\n",
       "      <td>10611.18</td>\n",
       "    </tr>\n",
       "    <tr>\n",
       "      <th>6</th>\n",
       "      <td>179</td>\n",
       "      <td>7.2</td>\n",
       "      <td>4.2</td>\n",
       "      <td>1.31</td>\n",
       "      <td>18486.92</td>\n",
       "    </tr>\n",
       "    <tr>\n",
       "      <th>7</th>\n",
       "      <td>182</td>\n",
       "      <td>7.3</td>\n",
       "      <td>4.2</td>\n",
       "      <td>1.32</td>\n",
       "      <td>19319.47</td>\n",
       "    </tr>\n",
       "    <tr>\n",
       "      <th>8</th>\n",
       "      <td>186</td>\n",
       "      <td>6.8</td>\n",
       "      <td>4.8</td>\n",
       "      <td>1.19</td>\n",
       "      <td>12418.93</td>\n",
       "    </tr>\n",
       "    <tr>\n",
       "      <th>9</th>\n",
       "      <td>189</td>\n",
       "      <td>6.8</td>\n",
       "      <td>4.6</td>\n",
       "      <td>1.22</td>\n",
       "      <td>14414.29</td>\n",
       "    </tr>\n",
       "  </tbody>\n",
       "</table>\n",
       "</div>"
      ],
      "text/plain": [
       "   Расстояние, на которое экран перемещен,мм  Umax,мВ  Umin,мВ  КСВН      G_oi\n",
       "0                                        160      6.7      4.8  1.18  10167.12\n",
       "1                                        163      7.1      4.2  1.30  16362.24\n",
       "2                                        166      7.8      4.1  1.38  20397.48\n",
       "3                                        169      7.6      4.2  1.35  19370.85\n",
       "4                                        173      6.8      4.8  1.19  11550.94\n",
       "5                                        176      6.6      4.8  1.17  10611.18\n",
       "6                                        179      7.2      4.2  1.31  18486.92\n",
       "7                                        182      7.3      4.2  1.32  19319.47\n",
       "8                                        186      6.8      4.8  1.19  12418.93\n",
       "9                                        189      6.8      4.6  1.22  14414.29"
      ]
     },
     "execution_count": 52,
     "metadata": {},
     "output_type": "execute_result"
    }
   ],
   "source": [
    "horn_antenna[\"КСВН\"] = round(np.sqrt(horn_antenna[\"Umax,мВ\"]/horn_antenna[\"Umin,мВ\"]),2)\n",
    "#мВ/мВ\n",
    "horn_antenna[\"G_oi\"] = 4*np.pi*2*horn_antenna[\"Расстояние, на которое экран перемещен,мм\"]/lambda_0 \n",
    "#оставляем миллиметры\n",
    "horn_antenna[\"G_oi\"] = round(horn_antenna[\"G_oi\"]*(horn_antenna[\"КСВН\"] - 1)/(horn_antenna[\"КСВН\"] + 1),2)\n",
    "#возможна ошибка в формуле\n",
    "horn_antenna"
   ]
  },
  {
   "cell_type": "code",
   "execution_count": 53,
   "metadata": {},
   "outputs": [
    {
     "data": {
      "text/plain": [
       "15309.94"
      ]
     },
     "execution_count": 53,
     "metadata": {},
     "output_type": "execute_result"
    }
   ],
   "source": [
    "#КСВН\n",
    "#round(sum(horn_antenna[\"G_oi\"])/len(horn_antenna[\"G_oi\"]),2)\n",
    "G_0 = round(horn_antenna[\"G_oi\"].mean(),2)\n",
    "G_0"
   ]
  },
  {
   "cell_type": "code",
   "execution_count": 54,
   "metadata": {},
   "outputs": [
    {
     "data": {
      "text/plain": [
       "41.85"
      ]
     },
     "execution_count": 54,
     "metadata": {},
     "output_type": "execute_result"
    }
   ],
   "source": [
    "round(10*np.log10(G_0),2)# в дБ"
   ]
  },
  {
   "cell_type": "code",
   "execution_count": 57,
   "metadata": {},
   "outputs": [
    {
     "data": {
      "text/plain": [
       "1.3"
      ]
     },
     "execution_count": 57,
     "metadata": {},
     "output_type": "execute_result"
    }
   ],
   "source": [
    "#Sзффективная\n",
    "S_ef = 1/(4*np.pi)*G_0*(lambda_0)**2\n",
    "round(S_ef,2)"
   ]
  },
  {
   "cell_type": "code",
   "execution_count": null,
   "metadata": {},
   "outputs": [],
   "source": []
  }
 ],
 "metadata": {
  "kernelspec": {
   "display_name": "Python 3",
   "language": "python",
   "name": "python3"
  },
  "language_info": {
   "codemirror_mode": {
    "name": "ipython",
    "version": 3
   },
   "file_extension": ".py",
   "mimetype": "text/x-python",
   "name": "python",
   "nbconvert_exporter": "python",
   "pygments_lexer": "ipython3",
   "version": "3.8.10"
  }
 },
 "nbformat": 4,
 "nbformat_minor": 4
}
